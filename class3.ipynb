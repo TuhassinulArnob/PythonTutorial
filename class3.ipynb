{
  "nbformat": 4,
  "nbformat_minor": 0,
  "metadata": {
    "colab": {
      "provenance": [],
      "collapsed_sections": [
        "9sAK5OFVKLyN",
        "vPgZoy6ePls2"
      ]
    },
    "kernelspec": {
      "name": "python3",
      "display_name": "Python 3"
    },
    "language_info": {
      "name": "python"
    }
  },
  "cells": [
    {
      "cell_type": "markdown",
      "source": [
        "**Control flow in Python involves managing the order in which statements are executed in a program. There are various control flow structures in Python, including conditional statements (if, elif, else), loops (for, while), and statements for controlling the flow of a program (break and continue)**"
      ],
      "metadata": {
        "id": "cQhJ3xrDJrWW"
      }
    },
    {
      "cell_type": "markdown",
      "source": [
        "# **1. Conditional Statements**\n",
        "\n",
        "> Conditional statements are used to execute different blocks of code based on the evaluation of a condition. Conditional statements in Python allow you to control the flow of your program based on conditions. The primary conditional statements are **if, elif (short for \"else if\"), and else**"
      ],
      "metadata": {
        "id": "9sAK5OFVKLyN"
      }
    },
    {
      "cell_type": "markdown",
      "source": [
        "**1. if Statement**\n",
        "\n",
        "if condition:\n",
        "\n",
        "\n",
        "\n",
        "    \n",
        ">  Code to execute if the condition is True\n",
        "\n"
      ],
      "metadata": {
        "id": "dEdg4fnWL8fK"
      }
    },
    {
      "cell_type": "code",
      "source": [
        "x = 10\n",
        "\n",
        "if x < 0:\n",
        "    print(\"x is positive\")\n",
        "    print(\"Done\")\n",
        "\n",
        "print(\"test\")"
      ],
      "metadata": {
        "colab": {
          "base_uri": "https://localhost:8080/"
        },
        "id": "SHe6NUdlMPAq",
        "outputId": "ae2a2e19-ae80-4cd7-e6a8-fe4e88802f64"
      },
      "execution_count": 2,
      "outputs": [
        {
          "output_type": "stream",
          "name": "stdout",
          "text": [
            "test\n"
          ]
        }
      ]
    },
    {
      "cell_type": "markdown",
      "source": [
        "**2. elif Statement:**\n",
        "\n",
        "The elif statement is used to check additional conditions after the initial if condition. It allows you to provide multiple conditions to be checked sequentially."
      ],
      "metadata": {
        "id": "CgDXrsCQNS-W"
      }
    },
    {
      "cell_type": "code",
      "source": [
        "x = 10\n",
        "\n",
        "if x > 0:\n",
        "    print(\"x is positive\")\n",
        "elif x == 0:\n",
        "    print(\"x is zero\")\n"
      ],
      "metadata": {
        "colab": {
          "base_uri": "https://localhost:8080/"
        },
        "id": "BrBAqJQCM9O4",
        "outputId": "3e8e1dd4-97a7-450f-b143-6969e7503b8d"
      },
      "execution_count": 4,
      "outputs": [
        {
          "output_type": "stream",
          "name": "stdout",
          "text": [
            "x is positive\n"
          ]
        }
      ]
    },
    {
      "cell_type": "markdown",
      "source": [
        "**3. else Statement:**\n",
        "\n",
        "\n",
        "\n",
        "\n",
        "The else statement is used to provide a default block of code to be executed when none of the preceding conditions is true."
      ],
      "metadata": {
        "id": "1HaOOPLyNwNQ"
      }
    },
    {
      "cell_type": "code",
      "execution_count": 6,
      "metadata": {
        "id": "p3TSF5NKvhbg",
        "colab": {
          "base_uri": "https://localhost:8080/",
          "height": 72
        },
        "outputId": "d6815727-1492-4aa3-9706-ad47b9b3f264"
      },
      "outputs": [
        {
          "output_type": "stream",
          "name": "stdout",
          "text": [
            "x is zero\n"
          ]
        },
        {
          "output_type": "execute_result",
          "data": {
            "text/plain": [
              "'In this example,\\nthe if statement checks if x is positive,\\nthe elif statement checks if x is zero,\\nand the else statement handles the case where x is negative.'"
            ],
            "application/vnd.google.colaboratory.intrinsic+json": {
              "type": "string"
            }
          },
          "metadata": {},
          "execution_count": 6
        }
      ],
      "source": [
        "# Example\n",
        "x = 0\n",
        "\n",
        "if x > 0:\n",
        "    print(\"x is positive\")\n",
        "elif x == 0:\n",
        "    print(\"x is zero\")\n",
        "else:\n",
        "    print(\"x is negative\")\n",
        "\n",
        "\n",
        "#Explanation\n",
        "'''In this example,\n",
        "the if statement checks if x is positive,\n",
        "the elif statement checks if x is zero,\n",
        "and the else statement handles the case where x is negative.'''"
      ]
    },
    {
      "cell_type": "markdown",
      "source": [
        "**Nested conditional statements**"
      ],
      "metadata": {
        "id": "XkF_niNBPUm3"
      }
    },
    {
      "cell_type": "code",
      "source": [
        "# Nested Conditional Statements Example\n",
        "score = 85\n",
        "\n",
        "if score >= 90:\n",
        "    print(\"A\")\n",
        "else:\n",
        "    if score >= 80:\n",
        "        print(\"B\")\n",
        "    else:\n",
        "        if score >= 70:\n",
        "            print(\"C\")\n",
        "        else:\n",
        "            print(\"F\")\n"
      ],
      "metadata": {
        "colab": {
          "base_uri": "https://localhost:8080/"
        },
        "id": "pxJGN94zKZzU",
        "outputId": "1ca8f0ec-a964-4d82-f2ae-5fd7eaf02abb"
      },
      "execution_count": 9,
      "outputs": [
        {
          "output_type": "stream",
          "name": "stdout",
          "text": [
            "B\n"
          ]
        }
      ]
    },
    {
      "cell_type": "markdown",
      "source": [
        "# **Loop Control Statement**"
      ],
      "metadata": {
        "id": "vPgZoy6ePls2"
      }
    },
    {
      "cell_type": "markdown",
      "source": [
        "> Loops in Python are control flow structures that allow you to repeatedly execute a block of code. The two main types of loops in Python are for loops and while loops.\n",
        "\n",
        "\n"
      ],
      "metadata": {
        "id": "LJCNe6hXOrhA"
      }
    },
    {
      "cell_type": "markdown",
      "source": [
        "**1. For Loop**\n",
        "\n",
        "> The for loop is used to iterate over a sequence (such as a list, tuple, string, or range) and execute a block of code for each item in the sequence.\n",
        "\n"
      ],
      "metadata": {
        "id": "-DqWXQfoOzKm"
      }
    },
    {
      "cell_type": "code",
      "source": [
        "fruits = [\"apple\", \"banana\", \"cherry\"]\n",
        "University=\"Islamic University\"\n",
        "for i in University:\n",
        "    print(i+\" x\")\n",
        "\n",
        "\n",
        "'''In this example, the for loop iterates over the fruits list,\n",
        "and for each iteration, the variable fruit takes on the value of the current item in the list.\n",
        "The loop body, indented, is executed for each item, printing the fruit.'''"
      ],
      "metadata": {
        "id": "N7b6aUqNPrAe",
        "colab": {
          "base_uri": "https://localhost:8080/",
          "height": 377
        },
        "outputId": "99a4f62c-093c-479e-9501-790c6bdc1b0e"
      },
      "execution_count": 18,
      "outputs": [
        {
          "output_type": "stream",
          "name": "stdout",
          "text": [
            "I x\n",
            "s x\n",
            "l x\n",
            "a x\n",
            "m x\n",
            "i x\n",
            "c x\n",
            "  x\n",
            "U x\n",
            "n x\n",
            "i x\n",
            "v x\n",
            "e x\n",
            "r x\n",
            "s x\n",
            "i x\n",
            "t x\n",
            "y x\n"
          ]
        },
        {
          "output_type": "execute_result",
          "data": {
            "text/plain": [
              "'In this example, the for loop iterates over the fruits list, \\nand for each iteration, the variable fruit takes on the value of the current item in the list. \\nThe loop body, indented, is executed for each item, printing the fruit.'"
            ],
            "application/vnd.google.colaboratory.intrinsic+json": {
              "type": "string"
            }
          },
          "metadata": {},
          "execution_count": 18
        }
      ]
    },
    {
      "cell_type": "markdown",
      "source": [
        "**For Loop Using range()**\n",
        "\n",
        "> The range() function in Python is a versatile tool for creating sequences of numbers. It's often used in for loops to iterate a specific number of times or generate sequences of numbers. Let's dive into more details about the example with range():\n",
        "\n"
      ],
      "metadata": {
        "id": "RD3D7ooSgkFa"
      }
    },
    {
      "cell_type": "code",
      "source": [
        "for i in range(5):\n",
        "    print(i)\n",
        "\n",
        "\n",
        "'''In this example, the range(5) generates a sequence of numbers from 0 to 4.\n",
        "The for loop then iterates over this sequence,\n",
        "and the variable i takes on each value in the sequence during each iteration of the loop.'''"
      ],
      "metadata": {
        "id": "aAPpNv-xc3m4"
      },
      "execution_count": null,
      "outputs": []
    },
    {
      "cell_type": "code",
      "source": [
        "# Range With Start and End Value\n",
        "#By default, range() starts from 0.\n",
        "#You can specify a different starting value if needed. #\n",
        "#For example, range(2, 5) will generate a sequence from 2 to 4.\n",
        "\n",
        "for i in range(2, 5):\n",
        "    print(i)\n"
      ],
      "metadata": {
        "id": "guo7Y-wJhjha"
      },
      "execution_count": null,
      "outputs": []
    },
    {
      "cell_type": "code",
      "source": [
        "#Step Size: You can also specify a step size, which determines the difference between consecutive numbers in the sequence.\n",
        "#For example, range(0, 10, 2) will generate even numbers from 0 to 8.\n",
        "for i in range(0, 11, 2):\n",
        "    print(i)\n"
      ],
      "metadata": {
        "colab": {
          "base_uri": "https://localhost:8080/"
        },
        "id": "Xcv194cBie1f",
        "outputId": "5d43de40-5df7-44e0-921a-7ebd93c9d20a"
      },
      "execution_count": 13,
      "outputs": [
        {
          "output_type": "stream",
          "name": "stdout",
          "text": [
            "0\n",
            "2\n",
            "4\n",
            "6\n",
            "8\n",
            "10\n"
          ]
        }
      ]
    },
    {
      "cell_type": "code",
      "source": [
        "#Negative Step Size: range() can also be used with a negative step size.\n",
        "#For example, range(5, 0, -1) will generate a sequence from 5 to 1 in reverse.\n",
        "for i in range(5, 0, -2):\n",
        "    print(i)\n"
      ],
      "metadata": {
        "colab": {
          "base_uri": "https://localhost:8080/"
        },
        "id": "vvqJGP-UioRY",
        "outputId": "d21406c8-a284-4957-eb47-ad0a6104755c"
      },
      "execution_count": 15,
      "outputs": [
        {
          "output_type": "stream",
          "name": "stdout",
          "text": [
            "5\n",
            "3\n",
            "1\n"
          ]
        }
      ]
    },
    {
      "cell_type": "markdown",
      "source": [
        "**2. While Loop**\n",
        "\n",
        "\n",
        "> The while loop is used to repeatedly execute a block of code as long as a condition is true\n",
        "\n"
      ],
      "metadata": {
        "id": "7ITijKxzpivZ"
      }
    },
    {
      "cell_type": "code",
      "source": [
        "count = 0\n",
        "\n",
        "while count <= 5:\n",
        "    print(count)\n",
        "    count += 1\n"
      ],
      "metadata": {
        "colab": {
          "base_uri": "https://localhost:8080/"
        },
        "id": "GqUjUV1Ip5Up",
        "outputId": "48a3d28e-de84-4370-87ea-d1159f786b0b"
      },
      "execution_count": 21,
      "outputs": [
        {
          "output_type": "stream",
          "name": "stdout",
          "text": [
            "0\n",
            "1\n",
            "2\n",
            "3\n",
            "4\n",
            "5\n"
          ]
        }
      ]
    },
    {
      "cell_type": "markdown",
      "source": [
        "**Loop Control Statement**"
      ],
      "metadata": {
        "id": "inG5QrHBsUtW"
      }
    },
    {
      "cell_type": "markdown",
      "source": [
        "**1. break Statement:**\n",
        ">The break statement is used to exit a loop prematurely, even if the loop condition is still true. It allows you to terminate the loop when a specific condition is met."
      ],
      "metadata": {
        "id": "jstVmdH1swpf"
      }
    },
    {
      "cell_type": "code",
      "source": [
        "count = 0\n",
        "\n",
        "while True:\n",
        "    print(count)\n",
        "    count += 1\n",
        "    if count == 6:\n",
        "        break\n",
        "\n"
      ],
      "metadata": {
        "colab": {
          "base_uri": "https://localhost:8080/"
        },
        "id": "9KvFKTkwsYuE",
        "outputId": "2bab3f74-7e30-4307-9ff5-df0843067da2"
      },
      "execution_count": 23,
      "outputs": [
        {
          "output_type": "stream",
          "name": "stdout",
          "text": [
            "0\n",
            "1\n",
            "2\n",
            "3\n",
            "4\n",
            "5\n"
          ]
        }
      ]
    },
    {
      "cell_type": "markdown",
      "source": [
        "**2. continue Statement:**\n",
        "\n",
        "> The continue statement is used to skip the rest of the loop's code and move to the next iteration of the loop. It allows you to bypass certain iterations based on a specific condition.\n",
        "\n"
      ],
      "metadata": {
        "id": "5Mq06Iy5s5wt"
      }
    },
    {
      "cell_type": "code",
      "source": [
        "count = 0\n",
        "\n",
        "while count < 5:\n",
        "    count += 1\n",
        "    if count == 3:\n",
        "        continue\n",
        "    print(count)\n"
      ],
      "metadata": {
        "colab": {
          "base_uri": "https://localhost:8080/"
        },
        "id": "NCZGhIB7ss-l",
        "outputId": "a62c89a7-2c87-40dc-d8f6-8346f66c7e8b"
      },
      "execution_count": 24,
      "outputs": [
        {
          "output_type": "stream",
          "name": "stdout",
          "text": [
            "1\n",
            "2\n",
            "4\n",
            "5\n"
          ]
        }
      ]
    },
    {
      "cell_type": "code",
      "source": [],
      "metadata": {
        "id": "N27Tjn2FY0tf"
      },
      "execution_count": null,
      "outputs": []
    }
  ]
}