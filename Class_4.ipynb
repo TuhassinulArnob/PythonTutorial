{
  "cells": [
    {
      "cell_type": "markdown",
      "metadata": {
        "id": "Az5GXvrSm2CE"
      },
      "source": [
        "# **Function in Python**"
      ]
    },
    {
      "cell_type": "markdown",
      "metadata": {
        "id": "_DxEU3IAUs2J"
      },
      "source": [
        "In Python, a function is a block of reusable code that performs a specific task. There are two types of function in python\n",
        "\n",
        "1.   Built in Fuction\n",
        "2.   User Defined Function\n",
        "\n"
      ]
    },
    {
      "cell_type": "markdown",
      "metadata": {
        "id": "W--CUu2gCcOF"
      },
      "source": [
        "Built in function example"
      ]
    },
    {
      "cell_type": "code",
      "execution_count": 26,
      "metadata": {
        "colab": {
          "base_uri": "https://localhost:8080/"
        },
        "id": "X3ZWzBcPVhJF",
        "outputId": "988962ec-00fc-472d-ca3d-91d622d51ba3"
      },
      "outputs": [
        {
          "data": {
            "text/plain": [
              "-10"
            ]
          },
          "execution_count": 26,
          "metadata": {},
          "output_type": "execute_result"
        }
      ],
      "source": [
        "num=-10\n",
        "num"
      ]
    },
    {
      "cell_type": "code",
      "execution_count": 27,
      "metadata": {
        "colab": {
          "base_uri": "https://localhost:8080/"
        },
        "id": "MjfVVBLkVkWz",
        "outputId": "34d2769a-db71-40ca-b83d-daae0a7a57ca"
      },
      "outputs": [
        {
          "name": "stdout",
          "output_type": "stream",
          "text": [
            "10\n"
          ]
        }
      ],
      "source": [
        "print(abs(num))"
      ]
    },
    {
      "cell_type": "code",
      "execution_count": 35,
      "metadata": {
        "colab": {
          "base_uri": "https://localhost:8080/"
        },
        "id": "hDIyklmZS0Gk",
        "outputId": "fb34357a-58c8-4217-8a58-38df7b1da3b4"
      },
      "outputs": [
        {
          "name": "stdout",
          "output_type": "stream",
          "text": [
            "Help on built-in function print in module builtins:\n",
            "\n",
            "print(...)\n",
            "    print(value, ..., sep=' ', end='\\n', file=sys.stdout, flush=False)\n",
            "    \n",
            "    Prints the values to a stream, or to sys.stdout by default.\n",
            "    Optional keyword arguments:\n",
            "    file:  a file-like object (stream); defaults to the current sys.stdout.\n",
            "    sep:   string inserted between values, default a space.\n",
            "    end:   string appended after the last value, default a newline.\n",
            "    flush: whether to forcibly flush the stream.\n",
            "\n"
          ]
        }
      ],
      "source": [
        "#Definition of a built in function\n",
        "help(print)"
      ]
    },
    {
      "cell_type": "code",
      "execution_count": 31,
      "metadata": {
        "colab": {
          "base_uri": "https://localhost:8080/"
        },
        "id": "jMomUzN9XZIB",
        "outputId": "39bf9d2c-bc56-4888-8d79-714ca7168d00"
      },
      "outputs": [
        {
          "name": "stdout",
          "output_type": "stream",
          "text": [
            "Help on built-in function len in module builtins:\n",
            "\n",
            "len(obj, /)\n",
            "    Return the number of items in a container.\n",
            "\n"
          ]
        }
      ],
      "source": [
        "help(len)"
      ]
    },
    {
      "cell_type": "markdown",
      "metadata": {
        "id": "EdZ0BAatBmdF"
      },
      "source": [
        "# **Parameter Passing**"
      ]
    },
    {
      "cell_type": "markdown",
      "metadata": {
        "id": "29RhmqIoOfrn"
      },
      "source": [
        "Divide your large program into smaller blocks. A function in Python is like a mini-program inside your main program. When you want to perform a specific task, you just call that function by its name, and it does its job."
      ]
    },
    {
      "cell_type": "code",
      "execution_count": null,
      "metadata": {
        "id": "bg4FMVGFhzdh"
      },
      "outputs": [],
      "source": [
        "#Positioal Parameter\n",
        "# These are the most common type of parameters.\n",
        "# The values passed during the function call are assigned to parameters based on their order\n",
        "\n",
        "def greet(name, greeting):\n",
        "    print(greeting, name)\n",
        "\n",
        "greet(\"Alice\", \"Hello\")\n"
      ]
    },
    {
      "cell_type": "code",
      "execution_count": null,
      "metadata": {
        "id": "DD_ghZNZoxsd"
      },
      "outputs": [],
      "source": [
        "# Default Parameters\n",
        "#Default parameters have a default value assigned.\n",
        "#If a value is not provided during the function call, the default value is used.\n",
        "def greet(name=\"Guest\", greeting=\"Hello\"):\n",
        "    print(greeting, name)\n",
        "\n",
        "greet()\n"
      ]
    },
    {
      "cell_type": "code",
      "execution_count": 1,
      "metadata": {
        "id": "cXNJL9J4pL31"
      },
      "outputs": [
        {
          "name": "stdout",
          "output_type": "stream",
          "text": [
            "Hi Bob\n"
          ]
        }
      ],
      "source": [
        "#Keyword Parameters\n",
        "#Values are passed to parameters using the parameter names during the function call. This allows you to pass values in any order.\n",
        "def greet(name, greeting):\n",
        "    print(greeting, name)\n",
        "\n",
        "greet(greeting=\"Hi\", name=\"Bob\")\n"
      ]
    },
    {
      "cell_type": "code",
      "execution_count": 49,
      "metadata": {
        "id": "jMs27Y0tpag0"
      },
      "outputs": [],
      "source": [
        "#Arbitrary Positional Parameters\n",
        "#Allows a function to accept any number of positional arguments. The values are collected into a tuple\n",
        "def sum_values(*args):\n",
        "    result = 0\n",
        "    for num in args:\n",
        "        result += num\n",
        "    return result\n",
        "\n",
        "total = sum_values(1, 2, 3, 4)\n"
      ]
    },
    {
      "cell_type": "code",
      "execution_count": null,
      "metadata": {
        "id": "mZm8Yrv-pvsr"
      },
      "outputs": [],
      "source": [
        "#Arbitrary Keyword Parameters\n",
        "#Allows a function to accept any number of keyword arguments. The values are collected into a dictionary.\n",
        "def print_person_info(**kwargs):\n",
        "    for key, value in kwargs.items():\n",
        "        print(f\"{key}: {value}\")\n",
        "\n",
        "print_person_info(name=\"Alice\", age=25, city=\"Wonderland\", occupation=\"Adventurer\")\n"
      ]
    },
    {
      "cell_type": "code",
      "execution_count": null,
      "metadata": {
        "id": "RiywOlz1sGEB"
      },
      "outputs": [],
      "source": [
        "def print_info(**custom_info):\n",
        "    for key, value in custom_info.items():\n",
        "        print(f\"{key}: {value}\")\n",
        "\n",
        "# Calling the function with different keyword arguments\n",
        "print_info(name=\"Alice\", age=30, city=\"Wonderland\")\n"
      ]
    }
  ],
  "metadata": {
    "colab": {
      "provenance": []
    },
    "kernelspec": {
      "display_name": "Python 3",
      "name": "python3"
    },
    "language_info": {
      "codemirror_mode": {
        "name": "ipython",
        "version": 3
      },
      "file_extension": ".py",
      "mimetype": "text/x-python",
      "name": "python",
      "nbconvert_exporter": "python",
      "pygments_lexer": "ipython3",
      "version": "3.11.5"
    }
  },
  "nbformat": 4,
  "nbformat_minor": 0
}
