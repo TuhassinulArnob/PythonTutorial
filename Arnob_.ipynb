{
 "cells": [
  {
   "cell_type": "markdown",
   "metadata": {},
   "source": [
    "*Exercise 1*"
   ]
  },
  {
   "cell_type": "code",
   "execution_count": 1,
   "metadata": {},
   "outputs": [
    {
     "name": "stdout",
     "output_type": "stream",
     "text": [
      "Original list: [1, 2, 3, 4, 5]\n",
      "Modified list: [1, 2, 10, 4, 5]\n"
     ]
    }
   ],
   "source": [
    "# Initialize an empty list\n",
    "my_list = []\n",
    "\n",
    "# Append the numbers 1 to 5 to the list\n",
    "my_list.extend([1, 2, 3, 4, 5])\n",
    "\n",
    "# Print the list\n",
    "print(\"Original list:\", my_list)\n",
    "\n",
    "# Insert the number 10 at index 2\n",
    "my_list.insert(2, 10)\n",
    "\n",
    "# Remove the element at index 3\n",
    "my_list.pop(3)\n",
    "\n",
    "# Print the modified list\n",
    "print(\"Modified list:\", my_list)\n"
   ]
  },
  {
   "cell_type": "markdown",
   "metadata": {},
   "source": [
    "*Exercise 2: Tuple Operations*"
   ]
  },
  {
   "cell_type": "code",
   "execution_count": 2,
   "metadata": {},
   "outputs": [
    {
     "name": "stdout",
     "output_type": "stream",
     "text": [
      "Concatenated Tuple: (1, 2, 3, 3, 4, 5)\n",
      "Multiplied Tuple: (3, 4, 5, 3, 4, 5, 3, 4, 5)\n"
     ]
    }
   ],
   "source": [
    "# Initialize two tuples\n",
    "tuple_a = (1, 2, 3)\n",
    "tuple_b = (3, 4, 5)\n",
    "\n",
    "# Print the concatenation of the two tuples\n",
    "concatenated_tuple = tuple_a + tuple_b\n",
    "print(\"Concatenated Tuple:\", concatenated_tuple)\n",
    "\n",
    "# Print the result of multiplying the second tuple by 3\n",
    "multiplied_tuple = tuple_b * 3\n",
    "print(\"Multiplied Tuple:\", multiplied_tuple)\n"
   ]
  },
  {
   "cell_type": "markdown",
   "metadata": {},
   "source": [
    "Exercise 3: Set Operations"
   ]
  },
  {
   "cell_type": "code",
   "execution_count": 5,
   "metadata": {},
   "outputs": [
    {
     "name": "stdout",
     "output_type": "stream",
     "text": [
      "Set a is  {1, 2, 3}\n",
      "Set a is  {3, 4, 5}\n",
      "Union of Sets: {1, 2, 3, 4, 5}\n",
      "Intersection of Sets: {3}\n",
      "Updated Intersection of Set A: {3}\n",
      "Set A - Set B: set()\n",
      "Symmetric Difference: {4, 5}\n"
     ]
    }
   ],
   "source": [
    "# Initialize two sets\n",
    "set_a = {1, 2, 3}\n",
    "set_b = {3, 4, 5}\n",
    "\n",
    "#printing two sets\n",
    "print(\"Set a is \",set_a)\n",
    "print(\"Set b is \",set_b)\n",
    "\n",
    "# Print the union of the two sets\n",
    "union_set = set_a.union(set_b)\n",
    "print(\"Union of Sets:\", union_set)\n",
    "\n",
    "# Print the intersection of the two sets\n",
    "intersection_set = set_a.intersection(set_b)\n",
    "print(\"Intersection of Sets:\", intersection_set)\n",
    "\n",
    "# Update intersection of the two sets (in-place)\n",
    "set_a.intersection_update(set_b)\n",
    "print(\"Updated Intersection of Set A:\", set_a)\n",
    "\n",
    "# Print the elements present in set A but not in set B\n",
    "difference_set = set_a.difference(set_b)\n",
    "print(\"Set A - Set B:\", difference_set)\n",
    "\n",
    "# Print the symmetric difference between the two sets\n",
    "symmetric_difference_set = set_a.symmetric_difference(set_b)\n",
    "print(\"Symmetric Difference:\", symmetric_difference_set)\n"
   ]
  },
  {
   "cell_type": "markdown",
   "metadata": {},
   "source": [
    "Exercise 4: List Comprehension"
   ]
  },
  {
   "cell_type": "code",
   "execution_count": 4,
   "metadata": {},
   "outputs": [
    {
     "name": "stdout",
     "output_type": "stream",
     "text": [
      "Original List: [1, 2, 3, 4, 5, 6, 7, 8, 9, 10]\n",
      "Squares List: [1, 4, 9, 16, 25, 36, 49, 64, 81, 100]\n",
      "Even Numbers List: [2, 4, 6, 8, 10]\n"
     ]
    }
   ],
   "source": [
    "# Initialize a list with numbers from 1 to 10\n",
    "original_list = list(range(1, 11))\n",
    "\n",
    "# Create a new list containing the squares of each number in the first list\n",
    "squared_list = [x ** 2 for x in original_list]\n",
    "\n",
    "# Create another list containing only the even numbers from the first list\n",
    "even_numbers_list = [x for x in original_list if x % 2 == 0]\n",
    "\n",
    "print(\"Original List:\", original_list)\n",
    "print(\"Squares List:\", squared_list)\n",
    "print(\"Even Numbers List:\", even_numbers_list)\n"
   ]
  }
 ],
 "metadata": {
  "kernelspec": {
   "display_name": "base",
   "language": "python",
   "name": "python3"
  },
  "language_info": {
   "codemirror_mode": {
    "name": "ipython",
    "version": 3
   },
   "file_extension": ".py",
   "mimetype": "text/x-python",
   "name": "python",
   "nbconvert_exporter": "python",
   "pygments_lexer": "ipython3",
   "version": "3.11.5"
  }
 },
 "nbformat": 4,
 "nbformat_minor": 2
}
