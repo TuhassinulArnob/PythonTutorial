{
 "cells": [
  {
   "cell_type": "code",
   "execution_count": 5,
   "metadata": {},
   "outputs": [
    {
     "data": {
      "text/plain": [
       "{1, 12, 2, 5.4, 'IEEE', 'IU', 'Kushtia'}"
      ]
     },
     "execution_count": 5,
     "metadata": {},
     "output_type": "execute_result"
    }
   ],
   "source": [
    "# Creating Set\n",
    "\n",
    "my_set = { 12, 1 , 2,  5.4, \"IEEE\", \"IU\", \"Kushtia\", \"IU\"}\n",
    "type(my_set)\n",
    "my_set"
   ]
  },
  {
   "cell_type": "code",
   "execution_count": 6,
   "metadata": {},
   "outputs": [
    {
     "name": "stdout",
     "output_type": "stream",
     "text": [
      "<class 'set'>\n"
     ]
    },
    {
     "data": {
      "text/plain": [
       "{1, 23, 'apple', 'banana'}"
      ]
     },
     "execution_count": 6,
     "metadata": {},
     "output_type": "execute_result"
    }
   ],
   "source": [
    "#Creating set using set() function\n",
    "\n",
    "fruits= set([\"apple\", 'banana', 1 ,23])\n",
    "print(type(fruits))\n",
    "fruits"
   ]
  },
  {
   "cell_type": "markdown",
   "metadata": {},
   "source": [
    "Let's explore different types of set methods"
   ]
  },
  {
   "cell_type": "code",
   "execution_count": 8,
   "metadata": {},
   "outputs": [
    {
     "data": {
      "text/plain": [
       "{12, 2, 3, 5, 'Bd'}"
      ]
     },
     "execution_count": 8,
     "metadata": {},
     "output_type": "execute_result"
    }
   ],
   "source": [
    "# Adding elements\n",
    "\n",
    "my_set= {2,3,5,\"Bd\"}\n",
    "\n",
    "my_set.add(12)\n",
    "my_set"
   ]
  },
  {
   "cell_type": "code",
   "execution_count": 10,
   "metadata": {},
   "outputs": [
    {
     "data": {
      "text/plain": [
       "{2, 3, 5, 'Bd'}"
      ]
     },
     "execution_count": 10,
     "metadata": {},
     "output_type": "execute_result"
    }
   ],
   "source": [
    "# Removing items from a set. \n",
    "\n",
    "# using remove()\n",
    "\n",
    "my_set.remove(12)\n",
    "print(my_set)\n",
    "\n"
   ]
  },
  {
   "cell_type": "code",
   "execution_count": 12,
   "metadata": {},
   "outputs": [
    {
     "data": {
      "text/plain": [
       "{2, 3, 5}"
      ]
     },
     "execution_count": 12,
     "metadata": {},
     "output_type": "execute_result"
    }
   ],
   "source": [
    "\n",
    "# using discard()\n",
    "\n",
    "my_set.discard(\"IU\")\n",
    "my_set\n"
   ]
  },
  {
   "cell_type": "code",
   "execution_count": 14,
   "metadata": {},
   "outputs": [
    {
     "data": {
      "text/plain": [
       "32"
      ]
     },
     "execution_count": 14,
     "metadata": {},
     "output_type": "execute_result"
    }
   ],
   "source": [
    "# using pop()\n",
    "\n",
    "my_set2={ 1,2,34,41, 32, \"IEEE\", \"IU\", 'Student', \"Kushtia\"}\n",
    "\n",
    "popped_element = my_set2.pop()\n",
    "popped_element\n"
   ]
  },
  {
   "cell_type": "code",
   "execution_count": 16,
   "metadata": {},
   "outputs": [
    {
     "data": {
      "text/plain": [
       "set()"
      ]
     },
     "execution_count": 16,
     "metadata": {},
     "output_type": "execute_result"
    }
   ],
   "source": [
    "# Clearing a set's item\n",
    "my_set.clear()\n",
    "my_set"
   ]
  },
  {
   "cell_type": "markdown",
   "metadata": {},
   "source": [
    "Mathematical Functions of set"
   ]
  },
  {
   "cell_type": "code",
   "execution_count": 22,
   "metadata": {},
   "outputs": [
    {
     "data": {
      "text/plain": [
       "{1, 10, 12, 2, 4, 'BD', 'Ban', 'IU', 'Kushtia'}"
      ]
     },
     "execution_count": 22,
     "metadata": {},
     "output_type": "execute_result"
    }
   ],
   "source": [
    "# Union Operations\n",
    "\n",
    "set_a = {\"IU\", 1, 2,4, \"BD\"}\n",
    "set_b = {\"Kushtia\", \"IU\",2, 10,12, \"Ban\"}\n",
    "\n",
    "union_set = set_a.union(set_b)\n",
    "union_set"
   ]
  },
  {
   "cell_type": "code",
   "execution_count": 23,
   "metadata": {},
   "outputs": [
    {
     "data": {
      "text/plain": [
       "{2, 'IU'}"
      ]
     },
     "execution_count": 23,
     "metadata": {},
     "output_type": "execute_result"
    }
   ],
   "source": [
    "# Set Intersection operation\n",
    "\n",
    "intersection_set= set_a.intersection(set_b)\n",
    "intersection_set"
   ]
  },
  {
   "cell_type": "code",
   "execution_count": 25,
   "metadata": {},
   "outputs": [
    {
     "data": {
      "text/plain": [
       "{10, 12, 'Ban', 'Kushtia'}"
      ]
     },
     "execution_count": 25,
     "metadata": {},
     "output_type": "execute_result"
    }
   ],
   "source": [
    "# Difference between two sets\n",
    "\n",
    "difference_Set= set_b.difference(set_a)\n",
    "difference_Set"
   ]
  },
  {
   "cell_type": "code",
   "execution_count": 26,
   "metadata": {},
   "outputs": [
    {
     "data": {
      "text/plain": [
       "{1, 2, 4, 5}"
      ]
     },
     "execution_count": 26,
     "metadata": {},
     "output_type": "execute_result"
    }
   ],
   "source": [
    "# Symmetric differnece between two sets\n",
    "\n",
    "Set_1 = {1,2,3}\n",
    "Set_2 = { 3, 4 ,5}\n",
    "\n",
    "symmttric_difference = Set_1.symmetric_difference(Set_2)\n",
    "\n",
    "symmttric_difference"
   ]
  },
  {
   "cell_type": "code",
   "execution_count": 28,
   "metadata": {},
   "outputs": [
    {
     "data": {
      "text/plain": [
       "False"
      ]
     },
     "execution_count": 28,
     "metadata": {},
     "output_type": "execute_result"
    }
   ],
   "source": [
    "# Subset operation\n",
    "\n",
    "set_A= {1,2,3}\n",
    "set_B = {1,2,3,5}\n",
    "\n",
    "is_subset = set_A.issubset(set_B)\n",
    "is_subset"
   ]
  },
  {
   "cell_type": "code",
   "execution_count": 33,
   "metadata": {},
   "outputs": [
    {
     "name": "stdout",
     "output_type": "stream",
     "text": [
      "{33, 52, 12, 54}\n",
      "{32, 33, 25, 31}\n"
     ]
    }
   ],
   "source": [
    "# Updating a set\n",
    "\n",
    "set_x={33,52, 54, 12}\n",
    "set_y={31,33,32,25}\n",
    "#set_x.update(set_y)\n",
    "\n",
    "print(set_x)\n",
    "print(set_y)"
   ]
  },
  {
   "cell_type": "code",
   "execution_count": 34,
   "metadata": {},
   "outputs": [
    {
     "name": "stdout",
     "output_type": "stream",
     "text": [
      "{33}\n"
     ]
    }
   ],
   "source": [
    "# Inplace intersect operation\n",
    "set_x.intersection_update(set_y)\n",
    "\n",
    "print(set_x)\n"
   ]
  },
  {
   "cell_type": "code",
   "execution_count": 35,
   "metadata": {},
   "outputs": [
    {
     "name": "stdout",
     "output_type": "stream",
     "text": [
      "{2, 3, 34}\n",
      "{10, 2, 10.5, 11}\n",
      "{1, 2, 3, 4, 34, 10, 10.5, 11}\n"
     ]
    }
   ],
   "source": [
    "# Adding multiple sets into one set\n",
    "\n",
    "set1= {1,2,4}\n",
    "set2= {2,34,3}\n",
    "set3 ={ 10,2,10.5,11}\n",
    "\n",
    "set1.update(set2,set3)\n",
    "print(set2)\n",
    "print(set3)\n",
    "print(set1)"
   ]
  }
 ],
 "metadata": {
  "kernelspec": {
   "display_name": "Python 3",
   "language": "python",
   "name": "python3"
  },
  "language_info": {
   "codemirror_mode": {
    "name": "ipython",
    "version": 3
   },
   "file_extension": ".py",
   "mimetype": "text/x-python",
   "name": "python",
   "nbconvert_exporter": "python",
   "pygments_lexer": "ipython3",
   "version": "3.10.1"
  }
 },
 "nbformat": 4,
 "nbformat_minor": 2
}
