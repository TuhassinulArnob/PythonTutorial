{
 "cells": [
  {
   "cell_type": "markdown",
   "metadata": {},
   "source": [
    "#String"
   ]
  },
  {
   "cell_type": "code",
   "execution_count": 1,
   "metadata": {},
   "outputs": [
    {
     "name": "stdout",
     "output_type": "stream",
     "text": [
      "Born in Chicago in 1901, Disney developed an early interes           in drawing. He took art classes as a boy and took a job as                commercial illustrator at the age of 18. He moved to          California in the early 1920s and set up the Disney              Brothers Studio (now The Walt Disney Company) wit            his brother Roy.\n",
      "i\n",
      ".\n",
      "Born \n"
     ]
    }
   ],
   "source": [
    "str=\"Born in Chicago in 1901, Disney developed an early drawing.\"\n",
    "\n",
    "print(str)\n",
    "\n",
    "print(str[5])\n",
    "\n",
    "print(str[-1])\n",
    "\n",
    "print(str[0:5])\n"
   ]
  },
  {
   "cell_type": "markdown",
   "metadata": {},
   "source": [
    "String Methods\n"
   ]
  },
  {
   "cell_type": "code",
   "execution_count": 13,
   "metadata": {},
   "outputs": [
    {
     "name": "stdout",
     "output_type": "stream",
     "text": [
      "Mahfuz vai is now an Instructor\n",
      "arnob is now an  student\n"
     ]
    }
   ],
   "source": [
    "\n",
    "\n",
    "n=\"Mahfuz vai\"\n",
    "i=\"Instructor\"\n",
    "\n",
    "a=\"arnob\"\n",
    "s=\"student\"\n",
    "print(f'{n} is now an {i}') #একটা strig \" \" এর মধ্যেই সবগুলো dynamic variable use করতে পারছি \n",
    "\n",
    "print(a,\"is now an \",s) # দুইবার আলাদা আলদা কমা দেয়া লাগছে, আরো ভেরিএবল থাকলে আরো কমা লাগবে, জটিল হয়ে যায়\n"
   ]
  },
  {
   "cell_type": "code",
   "execution_count": null,
   "metadata": {},
   "outputs": [],
   "source": []
  }
 ],
 "metadata": {
  "kernelspec": {
   "display_name": "Python 3",
   "language": "python",
   "name": "python3"
  },
  "language_info": {
   "codemirror_mode": {
    "name": "ipython",
    "version": 3
   },
   "file_extension": ".py",
   "mimetype": "text/x-python",
   "name": "python",
   "nbconvert_exporter": "python",
   "pygments_lexer": "ipython3",
   "version": "3.12.0"
  }
 },
 "nbformat": 4,
 "nbformat_minor": 2
}
