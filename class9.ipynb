{
 "cells": [
  {
   "cell_type": "markdown",
   "metadata": {},
   "source": [
    "**OOP In Python**"
   ]
  },
  {
   "cell_type": "code",
   "execution_count": 1,
   "metadata": {},
   "outputs": [
    {
     "name": "stdout",
     "output_type": "stream",
     "text": [
      "<class 'int'>\n"
     ]
    }
   ],
   "source": [
    "x=10\n",
    "print(type(x))"
   ]
  },
  {
   "cell_type": "code",
   "execution_count": 15,
   "metadata": {},
   "outputs": [
    {
     "name": "stdout",
     "output_type": "stream",
     "text": [
      "\n",
      "Displaying Information about first car\n",
      "Color of the Car is : red \n",
      "Model of the Car is : honda\n",
      "<__main__.car object at 0x000002644E078F50>\n",
      "0x2644e078f50\n",
      "\n",
      "Displaying Information about second car\n",
      "Color of the Car is : blue \n",
      "Model of the Car is : BMW\n",
      "<__main__.car object at 0x000002644E074690>\n",
      "0x2644e074690\n"
     ]
    }
   ],
   "source": [
    "class Car:\n",
    "    def __init__(self,color,model) -> None:\n",
    "        self.color=color\n",
    "        self.model=model\n",
    "    def display_inf(self):\n",
    "        print(\"Color of the Car is :\",self.color,\"\\nModel of the Car is :\",self.model)\n",
    "        print(self)\n",
    "    \n",
    "\n",
    "#creating object for car 1 and  car 2\n",
    "car1 = car('red','honda') #objects can called as instants of class\n",
    "car2 = car('blue','BMW')\n",
    "\n",
    "print(\"\\nDisplaying Information about first car\")\n",
    "car1.display_inf()\n",
    "\n",
    "print(hex(id(car1)))\n",
    "\n",
    "print(\"\\nDisplaying Information about second car\")\n",
    "car2.display_inf()\n",
    "print(hex(id(car2)))\n",
    "\n",
    "\n"
   ]
  },
  {
   "cell_type": "markdown",
   "metadata": {},
   "source": [
    "Example 2"
   ]
  }
 ],
 "metadata": {
  "kernelspec": {
   "display_name": "base",
   "language": "python",
   "name": "python3"
  },
  "language_info": {
   "codemirror_mode": {
    "name": "ipython",
    "version": 3
   },
   "file_extension": ".py",
   "mimetype": "text/x-python",
   "name": "python",
   "nbconvert_exporter": "python",
   "pygments_lexer": "ipython3",
   "version": "3.11.5"
  }
 },
 "nbformat": 4,
 "nbformat_minor": 2
}
