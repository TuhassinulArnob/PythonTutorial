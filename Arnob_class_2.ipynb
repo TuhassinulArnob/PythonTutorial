{
 "cells": [
  {
   "cell_type": "markdown",
   "metadata": {},
   "source": [
    "For input only:"
   ]
  },
  {
   "cell_type": "code",
   "execution_count": 3,
   "metadata": {},
   "outputs": [],
   "source": [
    "FirstName=input(\"Enter your First name: \")\n",
    "LastName=input(\"Enter your Last name: \")\n",
    "home=input(\"Enter home address: \")\n",
    "dept=input(\"Enter your department: \")\n",
    "uni=input(\"Enter your University: \")\n",
    "bio=input(\"Bio: \")\n"
   ]
  },
  {
   "cell_type": "markdown",
   "metadata": {},
   "source": [
    "code and output for the task:"
   ]
  },
  {
   "cell_type": "code",
   "execution_count": 8,
   "metadata": {},
   "outputs": [
    {
     "name": "stdout",
     "output_type": "stream",
     "text": [
      "Your full name is  Arnob Sarkar\n",
      "Upper case name:  ARNOB SARKAR\n",
      "Lower case name:  arnob sarkar\n",
      "Home Address: Islampur, Philipnagar, Daulatpur, Kushtia\n",
      "Length of the home address is: 41\n",
      "substring of the bio:  learning Python\n",
      "I am a student of ICT at Islamic University, Kushtia\n"
     ]
    }
   ],
   "source": [
    "# 1. Concatenate First_Name and last_name and print\n",
    "fullName= FirstName +' '+ LastName #concatanate names\n",
    "print(\"Your full name is \",fullName)\n",
    "\n",
    "# 2. Convert the Concatenated text into both uppercase and lowercase and print\n",
    "print(\"Upper case name: \",fullName.upper())\n",
    "print(\"Lower case name: \",fullName.lower())\n",
    "\n",
    "print('Home Address: ',end='')\n",
    "print(home)\n",
    "\n",
    "# 3. Print the length of the values of variable Home_Address\n",
    "length=len(home)\n",
    "print(f'Length of the home address is: {length}')\n",
    "\n",
    "# 4. Print a substring of Bio using string slicing\n",
    "print(\"substring of the bio: \",end='')\n",
    "print(bio[4:20]) # Get a substring from the 5th character to the 20th character\n",
    "\n",
    "# 5. Print Department and University in a formatted string\n",
    "print(f'I am a student of {dept} at {uni}')"
   ]
  }
 ],
 "metadata": {
  "kernelspec": {
   "display_name": "base",
   "language": "python",
   "name": "python3"
  },
  "language_info": {
   "codemirror_mode": {
    "name": "ipython",
    "version": 3
   },
   "file_extension": ".py",
   "mimetype": "text/x-python",
   "name": "python",
   "nbconvert_exporter": "python",
   "pygments_lexer": "ipython3",
   "version": "3.11.5"
  }
 },
 "nbformat": 4,
 "nbformat_minor": 2
}
