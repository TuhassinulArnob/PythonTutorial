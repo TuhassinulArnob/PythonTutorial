{
 "cells": [
  {
   "cell_type": "markdown",
   "metadata": {
    "id": "QCpUqRgdSe13"
   },
   "source": [
    "# **What is Google Colab**"
   ]
  },
  {
   "cell_type": "markdown",
   "metadata": {
    "id": "tC092T29Scjh"
   },
   "source": [
    "Colab is a Jupyter Notebook stored in Google Drive. It is composed of cells. Each of them can contain code, text, images etc. It can execute Python code without any required setup your own machine."
   ]
  },
  {
   "cell_type": "code",
   "execution_count": 1,
   "metadata": {
    "colab": {
     "base_uri": "https://localhost:8080/"
    },
    "executionInfo": {
     "elapsed": 427,
     "status": "ok",
     "timestamp": 1696621597342,
     "user": {
      "displayName": "Jubaer Rahman",
      "userId": "06304023419179442169"
     },
     "user_tz": -360
    },
    "id": "uNn7fsa0Sw-C",
    "outputId": "d7df9f43-640d-4c30-97ec-8e4bb90de4a7"
   },
   "outputs": [
    {
     "name": "stdout",
     "output_type": "stream",
     "text": [
      "Welcome to this session\n"
     ]
    }
   ],
   "source": [
    "print(\"Welcome to this session\")\n"
   ]
  },
  {
   "cell_type": "code",
   "execution_count": 2,
   "metadata": {
    "colab": {
     "base_uri": "https://localhost:8080/",
     "height": 36
    },
    "executionInfo": {
     "elapsed": 478,
     "status": "ok",
     "timestamp": 1697292911559,
     "user": {
      "displayName": "Jubaer Rahman",
      "userId": "06304023419179442169"
     },
     "user_tz": -360
    },
    "id": "_-AJlEiuSxFU",
    "outputId": "ff279c69-5b6b-40ff-cd94-b70cfac81dda"
   },
   "outputs": [
    {
     "data": {
      "text/plain": [
       "'3.12.0 (tags/v3.12.0:0fb18b0, Oct  2 2023, 13:03:39) [MSC v.1935 64 bit (AMD64)]'"
      ]
     },
     "execution_count": 2,
     "metadata": {},
     "output_type": "execute_result"
    }
   ],
   "source": [
    "# Check Python version\n",
    "import sys\n",
    "sys.version"
   ]
  },
  {
   "cell_type": "markdown",
   "metadata": {
    "id": "ET59IJN6QY8L"
   },
   "source": [
    "# **Introduction to Python**"
   ]
  },
  {
   "cell_type": "markdown",
   "metadata": {
    "id": "iIVzRCNrSLq4"
   },
   "source": [
    "Python is a popular programming language. It was created by Guido van Rossum, and released in 1991. Python is a versatile, high-level programming language known for its readability and simplicity. It supports multiple programming paradigms, including procedural, object-oriented, and functional programming. Here's a list of things Python can do:\n",
    "\n",
    "1.   Web Development\n",
    "2.   Data Science and Analysis\n",
    "3.   Machine Learning and Artificial Intelligence\n",
    "4.   Cybersecurity\n",
    "5.   Web Scraping\n",
    "6.   Network Programming\n",
    "\n",
    "And many more\n",
    "\n",
    "\n"
   ]
  },
  {
   "cell_type": "markdown",
   "metadata": {
    "id": "P1s7uyEb0BnH"
   },
   "source": [
    "# **Variables and Data Types**"
   ]
  },
  {
   "cell_type": "markdown",
   "metadata": {
    "id": "Rge5GB5_n4DE"
   },
   "source": [
    "**Python Variable and Data Type**\n"
   ]
  },
  {
   "cell_type": "markdown",
   "metadata": {
    "id": "6VqiBieJyR4R"
   },
   "source": [
    "**Variable Declartion**\n",
    "No need to declare with any particular data type. Detects automatically."
   ]
  },
  {
   "cell_type": "code",
   "execution_count": 3,
   "metadata": {
    "id": "i98kxRbYv-Z8"
   },
   "outputs": [
    {
     "data": {
      "text/plain": [
       "str"
      ]
     },
     "execution_count": 3,
     "metadata": {},
     "output_type": "execute_result"
    }
   ],
   "source": [
    "x=10\n",
    "x='10'\n",
    "type(x)"
   ]
  },
  {
   "cell_type": "markdown",
   "metadata": {
    "id": "KcLD_6iSpjtR"
   },
   "source": [
    "**We can also declare many values to multiple variables and also one value to multiple variables**"
   ]
  },
  {
   "cell_type": "code",
   "execution_count": 8,
   "metadata": {
    "colab": {
     "base_uri": "https://localhost:8080/",
     "height": 36
    },
    "executionInfo": {
     "elapsed": 534,
     "status": "ok",
     "timestamp": 1697365782039,
     "user": {
      "displayName": "Jubaer Rahman",
      "userId": "06304023419179442169"
     },
     "user_tz": -360
    },
    "id": "yo7Gl3X4pD9p",
    "outputId": "327816f0-402c-4ce6-b380-27fc22b23ac7"
   },
   "outputs": [
    {
     "data": {
      "application/vnd.google.colaboratory.intrinsic+json": {
       "type": "string"
      },
      "text/plain": [
       "'EEE'"
      ]
     },
     "execution_count": 8,
     "metadata": {},
     "output_type": "execute_result"
    }
   ],
   "source": [
    "a,b,c=\"ICT\", \"EEE\", \"CSE\"\n",
    "x=y=z=\"Hello\"\n"
   ]
  },
  {
   "cell_type": "markdown",
   "metadata": {
    "id": "rF3lZAHeuM7G"
   },
   "source": [
    "**Input Output Function**"
   ]
  },
  {
   "cell_type": "code",
   "execution_count": 13,
   "metadata": {
    "colab": {
     "base_uri": "https://localhost:8080/"
    },
    "executionInfo": {
     "elapsed": 28576,
     "status": "ok",
     "timestamp": 1697366235526,
     "user": {
      "displayName": "Jubaer Rahman",
      "userId": "06304023419179442169"
     },
     "user_tz": -360
    },
    "id": "9o82uYuT4llm",
    "outputId": "ccbcd73a-29ee-4783-bb0d-3f69bdf608d7"
   },
   "outputs": [
    {
     "name": "stdout",
     "output_type": "stream",
     "text": [
      "Enter your name and age and Dept(separated by space): BME 23 EEE\n",
      "Name: BME\n",
      "Age: 23\n",
      "Dept: EEE\n"
     ]
    }
   ],
   "source": [
    "Name = input(\"Enter something: \")\n",
    "print(\"You entered:\", Name)\n",
    "user_number = int(input(\"Enter a number: \"))\n",
    "print(\"You entered:\", user_number)\n",
    "name, age, Dept = input(\"Enter your name and age and Dept(separated by space): \").split()\n",
    "print(\"Name:\", name)\n",
    "print(\"Age:\", age)\n",
    "print(\"Dept:\", Dept)\n"
   ]
  },
  {
   "cell_type": "code",
   "execution_count": 18,
   "metadata": {
    "colab": {
     "base_uri": "https://localhost:8080/"
    },
    "executionInfo": {
     "elapsed": 489,
     "status": "ok",
     "timestamp": 1697367036967,
     "user": {
      "displayName": "Jubaer Rahman",
      "userId": "06304023419179442169"
     },
     "user_tz": -360
    },
    "id": "I5wXXUAMpcxl",
    "outputId": "2773e7a4-a210-4a73-9f2a-6af4d86c4f71"
   },
   "outputs": [
    {
     "name": "stdout",
     "output_type": "stream",
     "text": [
      "Hello World\n",
      "Name: John Age: 30\n",
      "Name: IU, Age : 25.012341\n",
      "10, 20, 30\n"
     ]
    }
   ],
   "source": [
    "#Basic Printing\n",
    "print(\"Hello World\")\n",
    "\n",
    "#Printing Multiple variable\n",
    "name = \"John\"\n",
    "age = 30\n",
    "print(\"Name:\", name, \"Age:\", age)\n",
    "\n",
    "\n",
    "#Print Formatted Output\n",
    "name = \"IU\"\n",
    "age = 25.012341\n",
    "print(f\"Name: {name}, Age : {age}\")\n",
    "\n",
    "\n",
    "#Separator\n",
    "x = 10\n",
    "y = 20\n",
    "z = 30\n",
    "print(x, y, z, sep=\", \")\n"
   ]
  },
  {
   "cell_type": "markdown",
   "metadata": {
    "id": "jimIOTui4pqh"
   },
   "source": []
  },
  {
   "cell_type": "markdown",
   "metadata": {
    "id": "xDL8PKCAwGsk"
   },
   "source": [
    "***Data Types***\n",
    "1.  Text Type:\tstr\n",
    "2.  Numeric Types:\tint, float, complex\n",
    "3.  Sequence Types:\tlist, tuple, range\n",
    "4.  Mapping Type:\tdict\n",
    "5.  Set Types:\tset\n",
    "6.  Boolean Type:\tbool\n",
    "\n"
   ]
  },
  {
   "cell_type": "code",
   "execution_count": 7,
   "metadata": {
    "executionInfo": {
     "elapsed": 22,
     "status": "ok",
     "timestamp": 1697365611038,
     "user": {
      "displayName": "Jubaer Rahman",
      "userId": "06304023419179442169"
     },
     "user_tz": -360
    },
    "id": "-KXeIT7Q3OIk"
   },
   "outputs": [],
   "source": [
    "Roll= \"12.088\"\n",
    "#print(type(Roll))"
   ]
  },
  {
   "cell_type": "code",
   "execution_count": 9,
   "metadata": {
    "executionInfo": {
     "elapsed": 514,
     "status": "ok",
     "timestamp": 1697296820800,
     "user": {
      "displayName": "Jubaer Rahman",
      "userId": "06304023419179442169"
     },
     "user_tz": -360
    },
    "id": "EOSIwmvMvn1y"
   },
   "outputs": [],
   "source": [
    "# Integer\n",
    "num_int = 42\n",
    "\n",
    "# Float\n",
    "num_float = 3.14\n",
    "\n",
    "# String. This can be viewed as array\n",
    "text = \"Hello, Python!\"\n",
    "\n",
    "# Boolean\n",
    "is_true = True\n",
    "is_false = False\n",
    "\n",
    "# List\n",
    "my_list = [1, 2, 3, \"apple\", \"banana\"]\n",
    "\n",
    "# Tuple\n",
    "my_tuple = (1, 2, \"apple\")\n",
    "\n",
    "# Set\n",
    "my_set = {1, 2, 3, 3, 4}\n",
    "\n",
    "# Dictionary\n",
    "my_dict = {\"name\": \"John\", \"age\": 30, \"city\": \"New York\"}\n",
    "\n",
    "# NoneType\n",
    "no_value = None\n"
   ]
  },
  {
   "cell_type": "markdown",
   "metadata": {
    "id": "trkV0sR5o3mC"
   },
   "source": [
    "**Type Casting**\n",
    "\n",
    "1.   Implicit type casting is performed automatically by the Python interpreter. For example, if you add an integer and a float, the Python interpreter will automatically cast the integer to a float before performing the addition.\n",
    "2.   Explicit type casting is performed by the programmer using the built-in functions int(), float(), and str(). For example, to cast a string to an integer, you would use the int() function.\n"
   ]
  },
  {
   "cell_type": "code",
   "execution_count": 19,
   "metadata": {
    "colab": {
     "base_uri": "https://localhost:8080/"
    },
    "executionInfo": {
     "elapsed": 518,
     "status": "ok",
     "timestamp": 1697367300211,
     "user": {
      "displayName": "Jubaer Rahman",
      "userId": "06304023419179442169"
     },
     "user_tz": -360
    },
    "id": "eSK9Pzxkm-Df",
    "outputId": "de63a957-c15d-420d-dcbe-2424f1e66eb7"
   },
   "outputs": [
    {
     "name": "stdout",
     "output_type": "stream",
     "text": [
      "3.5\n",
      "4.5\n",
      "2.5\n",
      "2.0\n",
      "10\n",
      "1.5\n",
      "10\n"
     ]
    }
   ],
   "source": [
    "# Implicit type casting\n",
    "print(1 + 2.5) # 3.5\n",
    "print(10 - 5.5) # 4.5\n",
    "print(1 * 2.5) # 2.5\n",
    "print(10 / 5) # 2.0\n",
    "\n",
    "# Explicit type casting\n",
    "print(int(\"10\")) # 10\n",
    "print(float(\"1.5\")) # 1.5\n",
    "print(str(10)) # \"10\""
   ]
  },
  {
   "cell_type": "markdown",
   "metadata": {
    "id": "hO1RSpIL4TpL"
   },
   "source": [
    "# **Basic operators**"
   ]
  },
  {
   "cell_type": "markdown",
   "metadata": {
    "id": "mVUV3YyU6W48"
   },
   "source": [
    "**There are different types of operators in python.**\n",
    "1. Arithmetic operators\n",
    "2. Assignment operators\n",
    "3. Comparison operators\n",
    "4. Logical operators\n",
    "5. Identity operators\n",
    "6. Membership operators\n",
    "7. Bitwise operators"
   ]
  },
  {
   "cell_type": "code",
   "execution_count": 12,
   "metadata": {
    "executionInfo": {
     "elapsed": 497,
     "status": "ok",
     "timestamp": 1697297272641,
     "user": {
      "displayName": "Jubaer Rahman",
      "userId": "06304023419179442169"
     },
     "user_tz": -360
    },
    "id": "AjfG_f_lyANn"
   },
   "outputs": [],
   "source": [
    "##                                      1.  Arithmetic Operations\n",
    "\n",
    "\n",
    "\n",
    "# Addition\n",
    "a = 5 + 3  # Result: 8\n",
    "\n",
    "# Subtraction\n",
    "b = 7 - 2  # Result: 5\n",
    "\n",
    "# Multiplication\n",
    "c = 4 * 6  # Result: 24\n",
    "\n",
    "# Division\n",
    "d = 10 / 2  # Result: 5.0 (float)\n",
    "\n",
    "# Floor Division\n",
    "e = 10 // 3  # Result: 3 (integer division)\n",
    "\n",
    "# Modulus (Remainder)\n",
    "f = 10 % 3  # Result: 1\n"
   ]
  },
  {
   "cell_type": "code",
   "execution_count": 2,
   "metadata": {
    "executionInfo": {
     "elapsed": 3,
     "status": "ok",
     "timestamp": 1697343280515,
     "user": {
      "displayName": "Jubaer Rahman",
      "userId": "06304023419179442169"
     },
     "user_tz": -360
    },
    "id": "O7vxs-4G8F9G"
   },
   "outputs": [],
   "source": [
    "##                          2. Comparison Operators\n",
    "\n",
    "\n",
    "\n",
    "# Equal to\n",
    "g = 1==1\n",
    "\n",
    "# Not equal to\n",
    "h = (4 != 3)  # Result: True\n",
    "\n",
    "# Greater than\n",
    "i = (5 > 2)  # Result: True\n",
    "\n",
    "# Less than\n",
    "j = (2 < 1)  # Result: False\n",
    "\n",
    "# Greater than or equal to\n",
    "k = (7 >= 7)  # Result: True\n",
    "\n",
    "# Less than or equal to\n",
    "l = (6 <= 3)  # Result: False\n",
    "\n"
   ]
  },
  {
   "cell_type": "code",
   "execution_count": null,
   "metadata": {
    "id": "rrz6m17_8dBG"
   },
   "outputs": [],
   "source": [
    "##3. Logical Operators\n",
    "\n",
    "\n",
    "\n",
    "\n",
    "# Logical AND\n",
    "m = True and False  # Result: False\n",
    "\n",
    "# Logical OR\n",
    "n = True or False  # Result: True\n",
    "\n",
    "# Logical NOT\n",
    "o = not True  # Result: False\n"
   ]
  },
  {
   "cell_type": "code",
   "execution_count": null,
   "metadata": {
    "id": "omsMliq38kRV"
   },
   "outputs": [],
   "source": [
    "##                                  4. Assignment Operators\n",
    "\n",
    "\n",
    "# Assignment\n",
    "p = 10\n",
    "\n",
    "# Increment\n",
    "p += 5  # Equivalent to: p = p + 5\n",
    "\n",
    "# Decrement\n",
    "p -= 2  # Equivalent to: p = p - 2\n"
   ]
  },
  {
   "cell_type": "code",
   "execution_count": 25,
   "metadata": {
    "colab": {
     "base_uri": "https://localhost:8080/"
    },
    "executionInfo": {
     "elapsed": 477,
     "status": "ok",
     "timestamp": 1697367794843,
     "user": {
      "displayName": "Jubaer Rahman",
      "userId": "06304023419179442169"
     },
     "user_tz": -360
    },
    "id": "T_ofFElt813c",
    "outputId": "ef0db7a2-fb48-4139-d23b-28a6fe9bab54"
   },
   "outputs": [
    {
     "data": {
      "text/plain": [
       "False"
      ]
     },
     "execution_count": 25,
     "metadata": {},
     "output_type": "execute_result"
    }
   ],
   "source": [
    "##                                 5. Membership Operators\n",
    "\n",
    "\n",
    "# In\n",
    "fruits = ['apple', 'banana', 'cherry']\n",
    "q = 'mango' in fruits  # Result: True\n",
    "#print(q)\n",
    "# Not in\n",
    "r = 'banana' not in fruits  # Result: True\n",
    "r\n",
    "\n"
   ]
  },
  {
   "cell_type": "code",
   "execution_count": 26,
   "metadata": {
    "colab": {
     "base_uri": "https://localhost:8080/",
     "height": 125
    },
    "executionInfo": {
     "elapsed": 468,
     "status": "ok",
     "timestamp": 1697367911181,
     "user": {
      "displayName": "Jubaer Rahman",
      "userId": "06304023419179442169"
     },
     "user_tz": -360
    },
    "id": "HXxTdvh39l9r",
    "outputId": "fe4d4b4c-3fba-48ae-cf5c-82bd455d3d3a"
   },
   "outputs": [
    {
     "name": "stdout",
     "output_type": "stream",
     "text": [
      "134024913873280\n",
      "134024913873280\n",
      "False\n",
      "False\n"
     ]
    },
    {
     "data": {
      "application/vnd.google.colaboratory.intrinsic+json": {
       "type": "string"
      },
      "text/plain": [
       "'# Example 2\\na = \"hello\"\\nb = \"world\"\\nc = \"hello\"\\n\\nprint(a is not b)  # Output: True (a and b are different objects)\\nprint(a is not c)  # Output: False (a and c reference the same object)'"
      ]
     },
     "execution_count": 26,
     "metadata": {},
     "output_type": "execute_result"
    }
   ],
   "source": [
    "##                                  6. Identity Operators\n",
    "\n",
    "\n",
    "# Example 1\n",
    "x = [1, 2, 3]\n",
    "y = [1, 2, 3]\n",
    "z = y\n",
    "\n",
    "print(id(z))\n",
    "print(id(y))\n",
    "print(x is y)  # Output: False (x and y are different objects)\n",
    "print(x is z)  # Output: False (x and z reference the same object)\n",
    "\n",
    "\n",
    "'''# Example 2\n",
    "a = \"hello\"\n",
    "b = \"world\"\n",
    "c = \"hello\"\n",
    "\n",
    "print(a is not b)  # Output: True (a and b are different objects)\n",
    "print(a is not c)  # Output: False (a and c reference the same object)'''\n"
   ]
  },
  {
   "cell_type": "code",
   "execution_count": 29,
   "metadata": {
    "colab": {
     "base_uri": "https://localhost:8080/"
    },
    "executionInfo": {
     "elapsed": 473,
     "status": "ok",
     "timestamp": 1697368266588,
     "user": {
      "displayName": "Jubaer Rahman",
      "userId": "06304023419179442169"
     },
     "user_tz": -360
    },
    "id": "j6VnRItMn1PA",
    "outputId": "136ee922-6921-4a08-b00f-f69cdee55195"
   },
   "outputs": [
    {
     "name": "stdout",
     "output_type": "stream",
     "text": [
      "0b1\n",
      "0b111\n",
      "-6\n"
     ]
    }
   ],
   "source": [
    "# 7. Bitwise Operator\n",
    "\n",
    "#AND\n",
    "a = 5   # 0b0101 in binary\n",
    "b = 3   # 0b0011 in binary\n",
    "\n",
    "result = a & b\n",
    "print(bin(result))  # Output: 1 (0b0001 in binary)\n",
    "\n",
    "\n",
    "#OR\n",
    "a = 5   # 0b0101 in binary\n",
    "b = 3   # 0b0011 in binary\n",
    "\n",
    "result = a | b\n",
    "print(bin(result))  # Output: 7 (0b0111 in binary)\n",
    "\n",
    "\n",
    "#Not\n",
    "a = 5   # 0b0101 in binary\n",
    "\n",
    "result = ~a\n",
    "print(result)  # Output: -6 (In two's complement representation)\n"
   ]
  },
  {
   "cell_type": "markdown",
   "metadata": {
    "id": "sNpx8wwp99m7"
   },
   "source": [
    "# **Strings and string manipulation**"
   ]
  },
  {
   "cell_type": "code",
   "execution_count": null,
   "metadata": {
    "id": "9f9hM1Wp-EYM"
   },
   "outputs": [],
   "source": [
    "# 1. Concatenation:\n",
    "\n",
    "str1 = \"Hello\"\n",
    "str2 = \"World\"\n",
    "result = str1 + \" \" + str2\n",
    "print(result)  # Output: Hello World\n"
   ]
  },
  {
   "cell_type": "code",
   "execution_count": null,
   "metadata": {
    "id": "8-DZxwpv-es8"
   },
   "outputs": [],
   "source": [
    "# 2. Repetition\n",
    "word = \"Python\"\n",
    "print(word*3)  # Output: PythonPythonPython\n"
   ]
  },
  {
   "cell_type": "code",
   "execution_count": null,
   "metadata": {
    "id": "goXcI3r__H_0"
   },
   "outputs": [],
   "source": [
    "# 3. SLicing\n",
    "text = \"Python is fun!\"\n",
    "substring = text[0:6]  # Extract characters from index 0 to 5\n",
    "print(substring)  # Output: Python\n"
   ]
  },
  {
   "cell_type": "code",
   "execution_count": null,
   "metadata": {
    "id": "VOrQlYO17v77"
   },
   "outputs": [],
   "source": [
    "# 4. Upper Case, Lower Case\n",
    "message = \"I am IUian\"\n",
    "uppercase_message = message.upper()\n",
    "lowercase_message = message.lower()\n",
    "print(uppercase_message)  # Output: MIXED CASE\n",
    "print(lowercase_message)  # Output: mixed case\n"
   ]
  },
  {
   "cell_type": "code",
   "execution_count": null,
   "metadata": {
    "id": "QCZAVd1q75cL"
   },
   "outputs": [],
   "source": [
    "# 5. String Replacement\n",
    "\n",
    "sentence = \"I love programming in Python.\"\n",
    "new_sentence = sentence.replace(\"Python\", \"Java\")\n",
    "print(new_sentence)\n"
   ]
  },
  {
   "cell_type": "code",
   "execution_count": null,
   "metadata": {
    "id": "UIrVEceK8H9j"
   },
   "outputs": [],
   "source": [
    "# 6. Find And Count\n",
    "phrase = \"Python is easy. Python is powerful.\"\n",
    "index = phrase.find(\"is\")\n",
    "count = phrase.count(\"Python\")\n",
    "print(index)  # Output: 7 (index of first 'is')\n",
    "print(count)  # Output: 2 (number of occurrences of 'Python')\n"
   ]
  },
  {
   "cell_type": "code",
   "execution_count": null,
   "metadata": {
    "id": "0CWjBAMJ8nBm"
   },
   "outputs": [],
   "source": []
  }
 ],
 "metadata": {
  "colab": {
   "authorship_tag": "ABX9TyP05INBQj2rcHDSx0MFUKWV",
   "collapsed_sections": [
    "QCpUqRgdSe13",
    "ET59IJN6QY8L",
    "hO1RSpIL4TpL",
    "sNpx8wwp99m7"
   ],
   "provenance": []
  },
  "kernelspec": {
   "display_name": "Python 3 (ipykernel)",
   "language": "python",
   "name": "python3"
  },
  "language_info": {
   "codemirror_mode": {
    "name": "ipython",
    "version": 3
   },
   "file_extension": ".py",
   "mimetype": "text/x-python",
   "name": "python",
   "nbconvert_exporter": "python",
   "pygments_lexer": "ipython3",
   "version": "3.12.0"
  }
 },
 "nbformat": 4,
 "nbformat_minor": 4
}
